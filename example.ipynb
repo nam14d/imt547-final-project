{
 "cells": [
  {
   "cell_type": "code",
   "execution_count": 4,
   "metadata": {},
   "outputs": [],
   "source": [
    "# must have boto3 installed\n",
    "# pip install boto3\n",
    "import utils as u\n",
    "# must have python-dotenv installed\n",
    "# pip install python-dotenv\n",
    "from dotenv import load_dotenv\n",
    "import pandas as pd\n",
    "import os"
   ]
  },
  {
   "cell_type": "code",
   "execution_count": 5,
   "metadata": {},
   "outputs": [
    {
     "data": {
      "text/plain": [
       "'us-west-2'"
      ]
     },
     "execution_count": 5,
     "metadata": {},
     "output_type": "execute_result"
    }
   ],
   "source": [
    "load_dotenv()\n",
    "os.environ['region']"
   ]
  },
  {
   "cell_type": "code",
   "execution_count": 6,
   "metadata": {},
   "outputs": [
    {
     "name": "stdout",
     "output_type": "stream",
     "text": [
      "Done!\n"
     ]
    }
   ],
   "source": [
    "s3 = u.S3_Manager()\n",
    "s3.upload_to_bucket(filename = 'Testing/testing.txt', dirname = 'Testing')"
   ]
  }
 ],
 "metadata": {
  "interpreter": {
   "hash": "be4f575b57cd616e8951d3414b22e7e78f0a117efd931393a2dac6d822142bba"
  },
  "kernelspec": {
   "display_name": "Python 3.9.9 ('lossfunctions-JWM1iRVw-py3.9')",
   "language": "python",
   "name": "python3"
  },
  "language_info": {
   "codemirror_mode": {
    "name": "ipython",
    "version": 3
   },
   "file_extension": ".py",
   "mimetype": "text/x-python",
   "name": "python",
   "nbconvert_exporter": "python",
   "pygments_lexer": "ipython3",
   "version": "3.9.9"
  },
  "orig_nbformat": 4
 },
 "nbformat": 4,
 "nbformat_minor": 2
}
